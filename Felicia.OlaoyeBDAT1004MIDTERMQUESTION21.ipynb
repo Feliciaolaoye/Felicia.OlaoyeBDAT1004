{
 "cells": [
  {
   "cell_type": "markdown",
   "id": "03ce4e02",
   "metadata": {},
   "source": [
    "# Question 21"
   ]
  },
  {
   "cell_type": "code",
   "execution_count": 2,
   "id": "558de80c",
   "metadata": {},
   "outputs": [
    {
     "name": "stdout",
     "output_type": "stream",
     "text": [
      "5.0\n",
      "1.3333333333333333\n"
     ]
    }
   ],
   "source": [
    "class Point:\n",
    "    def __init__(self, a=0, b=0):\n",
    "        self.a = a\n",
    "        self.b = b\n",
    "\n",
    "class Segment:\n",
    "    def __init__(self, p1, p2):\n",
    "        self.p1 = p1\n",
    "        self.p2 = p2\n",
    "\n",
    "    def length(self):\n",
    "        return ((self.p1.a - self.p2.a)**2 + (self.p1.b - self.p2.b)**2)**0.5\n",
    "\n",
    "    def slope(self):\n",
    "        if self.p1.a == self.p2.a:\n",
    "            return None\n",
    "        return (self.p1.b - self.p2.b) / (self.p1.a - self.p2.a)\n",
    "\n",
    "p1 = Point(3, 4)\n",
    "p2 = Point()\n",
    "s = Segment(p1, p2)\n",
    "print(s.length())\n",
    "print(s.slope())\n"
   ]
  },
  {
   "cell_type": "code",
   "execution_count": null,
   "id": "e9b7b920",
   "metadata": {},
   "outputs": [],
   "source": []
  }
 ],
 "metadata": {
  "kernelspec": {
   "display_name": "Python 3 (ipykernel)",
   "language": "python",
   "name": "python3"
  },
  "language_info": {
   "codemirror_mode": {
    "name": "ipython",
    "version": 3
   },
   "file_extension": ".py",
   "mimetype": "text/x-python",
   "name": "python",
   "nbconvert_exporter": "python",
   "pygments_lexer": "ipython3",
   "version": "3.11.4"
  }
 },
 "nbformat": 4,
 "nbformat_minor": 5
}
