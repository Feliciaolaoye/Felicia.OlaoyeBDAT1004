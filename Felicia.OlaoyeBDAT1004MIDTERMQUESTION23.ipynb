{
 "cells": [
  {
   "cell_type": "markdown",
   "id": "88852ea2",
   "metadata": {},
   "source": [
    "# Question 23"
   ]
  },
  {
   "cell_type": "code",
   "execution_count": 2,
   "id": "b2a1cc98",
   "metadata": {},
   "outputs": [
    {
     "name": "stdout",
     "output_type": "stream",
     "text": [
      "\n",
      "*\n",
      "\n",
      "**\n",
      "\n",
      "****\n",
      " **\n"
     ]
    }
   ],
   "source": [
    "def tough(indent, stars):\n",
    "    if stars <= 0:\n",
    "        return\n",
    "    \n",
    "    print(' ' * indent, end='')\n",
    "    \n",
    "    print('*' * stars)\n",
    "    \n",
    "    tough(indent + 1, stars - 2)\n",
    "\n",
    "\n",
    "tough(0, 0)\n",
    "print()\n",
    "tough(0, 1)\n",
    "print()\n",
    "tough(0,2)\n",
    "print()\n",
    "tough(0, 4)"
   ]
  },
  {
   "cell_type": "code",
   "execution_count": null,
   "id": "301fe150",
   "metadata": {},
   "outputs": [],
   "source": []
  }
 ],
 "metadata": {
  "kernelspec": {
   "display_name": "Python 3 (ipykernel)",
   "language": "python",
   "name": "python3"
  },
  "language_info": {
   "codemirror_mode": {
    "name": "ipython",
    "version": 3
   },
   "file_extension": ".py",
   "mimetype": "text/x-python",
   "name": "python",
   "nbconvert_exporter": "python",
   "pygments_lexer": "ipython3",
   "version": "3.11.4"
  }
 },
 "nbformat": 4,
 "nbformat_minor": 5
}
